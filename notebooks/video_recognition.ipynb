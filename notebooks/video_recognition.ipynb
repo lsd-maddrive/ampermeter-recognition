{
 "cells": [
  {
   "cell_type": "code",
   "execution_count": null,
   "metadata": {},
   "outputs": [],
   "source": [
    "%load_ext autoreload\n",
    "%autoreload 2\n",
    "\n",
    "import cv2\n",
    "import os\n",
    "from matplotlib import pyplot as plt\n",
    "import numpy as np\n",
    "import lib\n",
    "\n",
    "PROJECT_ROOT = os.path.abspath(os.path.join(os.curdir, os.pardir))\n",
    "DATA_ROOT = os.path.join(PROJECT_ROOT, 'data')\n",
    "\n",
    "PROJECT_ROOT"
   ]
  },
  {
   "cell_type": "code",
   "execution_count": null,
   "metadata": {},
   "outputs": [],
   "source": [
    "config = {\n",
    "    \"objects\": [\n",
    "        {\"src_bbox\": [[338, 95], [907, 95], [910, 660], [330, 660]]},\n",
    "    ]\n",
    "}\n",
    "\n",
    "VIDEO_FNAME = '2_5262567863796895591.mp4'\n",
    "VIDEO_FPATH = os.path.join(DATA_ROOT, \"AnalogDevicesImgs\", VIDEO_FNAME)"
   ]
  },
  {
   "cell_type": "code",
   "execution_count": null,
   "metadata": {},
   "outputs": [],
   "source": [
    "reader = lib.VideoReader(VIDEO_FPATH)\n",
    "\n",
    "frame = reader[0]\n",
    "\n",
    "roi_poly_pnts = config[\"objects\"][0][\"src_bbox\"]\n",
    "\n",
    "screen_extr = lib.IndicatorScreenExtractor(roi_pnts=roi_poly_pnts, ind_size=400)\n",
    "screen_extr.fit(frame)\n",
    "\n",
    "screen_frame = screen_extr.transform(frame)\n",
    "\n",
    "arr_det = lib.ArrowDetector()\n",
    "\n",
    "lines, arrow_angles = arr_det.transform(screen_frame)\n",
    "\n",
    "screen_canvas = lib.drawLines(screen_frame, lines)\n",
    "\n",
    "arrow_angles_deg = np.rad2deg(arrow_angles)\n",
    "\n",
    "lib.normalize_angles_deg(arrow_angles_deg, copy=False)\n",
    "\n",
    "units_convertor = lib.AngleUnitsConvertor()\n",
    "units_convertor.fit(X=[-11, 19.5, -28.5], y=[11, 21, 5])\n",
    "\n",
    "print(arrow_angles_deg)\n",
    "print(np.mean(arrow_angles_deg))\n",
    "\n",
    "_, ax = plt.subplots(ncols=3, figsize=(15, 9))\n",
    "ax[0].imshow(frame)\n",
    "ax[1].imshow(screen_frame)\n",
    "ax[2].imshow(screen_canvas)\n"
   ]
  },
  {
   "cell_type": "code",
   "execution_count": null,
   "metadata": {},
   "outputs": [],
   "source": [
    "import ipywidgets as widgets\n",
    "\n",
    "def slider_handler(x):\n",
    "    frame = reader[x]\n",
    "    screen_frame = screen_extr.transform(frame)\n",
    "    lines, arrow_angles = arr_det.transform(screen_frame)\n",
    "    screen_canvas = lib.drawLines(screen_frame, lines)\n",
    "    arrow_angles_deg = np.rad2deg(arrow_angles)\n",
    "    lib.normalize_angles_deg(arrow_angles_deg, copy=False)\n",
    "\n",
    "    text_writer = lib.ImageTextWriter()\n",
    "    text_writer.fontColor = (0, 127, 0)\n",
    "    text_writer.fontScale = 0.7\n",
    "\n",
    "    mean_angle = np.mean(arrow_angles_deg)\n",
    "    mean_unit = units_convertor.transform([mean_angle])\n",
    "\n",
    "    print(mean_angle)\n",
    "    print(mean_unit)\n",
    "\n",
    "    text_writer.putText(screen_frame, f\"{round(mean_angle, 2)} | {round(float(mean_unit[0]), 2)}\", (10, 20))\n",
    "\n",
    "    plt.imshow(screen_frame)\n",
    "    plt.show()\n",
    "\n",
    "    # -11 ~ 11\n",
    "    # 19.5 ~ 21\n",
    "    # -28.5 ~ 5\n",
    "\n",
    "widgets.interactive(slider_handler, x=widgets.IntSlider(max=len(reader)))"
   ]
  },
  {
   "cell_type": "code",
   "execution_count": null,
   "metadata": {},
   "outputs": [],
   "source": []
  },
  {
   "cell_type": "code",
   "execution_count": null,
   "metadata": {},
   "outputs": [],
   "source": []
  }
 ],
 "metadata": {
  "interpreter": {
   "hash": "bbf955da825090843b9acd3294397599ad6910334cebf8bc3892dd5f4262c94f"
  },
  "kernelspec": {
   "display_name": "Python 3.8.10 64-bit ('.venv': poetry)",
   "name": "python3"
  },
  "language_info": {
   "codemirror_mode": {
    "name": "ipython",
    "version": 3
   },
   "file_extension": ".py",
   "mimetype": "text/x-python",
   "name": "python",
   "nbconvert_exporter": "python",
   "pygments_lexer": "ipython3",
   "version": "3.8.10"
  }
 },
 "nbformat": 4,
 "nbformat_minor": 2
}
